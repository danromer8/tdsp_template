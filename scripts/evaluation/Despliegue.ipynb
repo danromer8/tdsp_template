{
  "nbformat": 4,
  "nbformat_minor": 0,
  "metadata": {
    "colab": {
      "provenance": []
    },
    "kernelspec": {
      "name": "python3",
      "display_name": "Python 3"
    },
    "language_info": {
      "name": "python"
    }
  },
  "cells": [
    {
      "cell_type": "code",
      "execution_count": 1,
      "metadata": {
        "id": "lTGgS8JUWdae"
      },
      "outputs": [],
      "source": [
        "!pip -q install fastapi uvicorn scikit-learn joblib pyngrok"
      ]
    },
    {
      "cell_type": "markdown",
      "source": [
        "# Creación de directorios y alojamiento de modelo"
      ],
      "metadata": {
        "id": "XNjo16fdaPvL"
      }
    },
    {
      "cell_type": "code",
      "source": [
        "import pandas as pd, joblib\n",
        "from pathlib import Path\n",
        "from sklearn.model_selection import train_test_split\n",
        "from sklearn.ensemble import RandomForestClassifier\n",
        "from sklearn.metrics import classification_report\n",
        "\n",
        "# -------- Rutas --------\n",
        "BASE  = Path.cwd()\n",
        "RAW   = BASE / \"data\" / \"raw\" / \"data_limpia.csv\"\n",
        "if not RAW.exists():\n",
        "    RAW = BASE / \"data_limpia.csv\"\n",
        "\n",
        "MODEL = BASE / \"deployment\" / \"fastapi_app\" / \"model.joblib\"\n",
        "MODEL.parent.mkdir(parents=True, exist_ok=True)\n",
        "\n",
        "# -------- Datos + features --------\n",
        "df = pd.read_csv(RAW)\n",
        "df[\"mean_grade\"] = df[[\"Curricular units 1st sem (grade)\",\n",
        "                       \"Curricular units 2nd sem (grade)\"]].mean(axis=1)\n",
        "df[\"total_approved\"] = (df[\"Curricular units 1st sem (approved)\"] +\n",
        "                        df[\"Curricular units 2nd sem (approved)\"])\n",
        "cat_vars = [\"Gender\", \"Scholarship holder\", \"International\",\n",
        "            \"Debtor\", \"Displaced\", \"Marital status\"]\n",
        "df = pd.get_dummies(df, columns=cat_vars, drop_first=True)\n",
        "df[\"Target_bin\"] = df[\"Target\"].str.lower().str.contains(\"drop\").astype(int)\n",
        "\n",
        "X = df.drop([\"Target\", \"Target_bin\"], axis=1)\n",
        "y = df[\"Target_bin\"]\n",
        "\n",
        "X_tr, X_te, y_tr, y_te = train_test_split(\n",
        "    X, y, stratify=y, test_size=0.2, random_state=42\n",
        ")\n",
        "\n",
        "# -------- Modelo ORIGINAL --------\n",
        "rf = RandomForestClassifier(n_estimators=100, random_state=42)\n",
        "rf.fit(X_tr, y_tr)\n",
        "print(classification_report(y_te, rf.predict(X_te)))\n",
        "\n",
        "joblib.dump(rf, MODEL, compress=3)\n",
        "print(\"✔ Modelo guardado en\", MODEL)"
      ],
      "metadata": {
        "colab": {
          "base_uri": "https://localhost:8080/"
        },
        "id": "O-DhOayrWuK6",
        "outputId": "1ca36e7c-848d-4b32-b554-409ff66f7b32"
      },
      "execution_count": 4,
      "outputs": [
        {
          "output_type": "stream",
          "name": "stdout",
          "text": [
            "              precision    recall  f1-score   support\n",
            "\n",
            "           0       0.88      0.95      0.91       601\n",
            "           1       0.86      0.74      0.80       284\n",
            "\n",
            "    accuracy                           0.88       885\n",
            "   macro avg       0.87      0.84      0.86       885\n",
            "weighted avg       0.88      0.88      0.88       885\n",
            "\n",
            "✔ Modelo guardado en /content/deployment/fastapi_app/model.joblib\n"
          ]
        }
      ]
    },
    {
      "cell_type": "code",
      "source": [
        "import pandas as pd, joblib\n",
        "from pathlib import Path\n",
        "from sklearn.model_selection import train_test_split\n",
        "from sklearn.ensemble import RandomForestClassifier\n",
        "from sklearn.metrics import classification_report\n",
        "\n",
        "BASE  = Path(\"/content\")      # ajusta si trabajas en otra ruta\n",
        "RAW   = BASE / \"data_limpia.csv\"\n",
        "MODEL = BASE / \"model.joblib\"  # ← se sobrescribirá\n",
        "\n",
        "# 1. Datos + feature-engineering idéntico\n",
        "df = pd.read_csv(RAW)\n",
        "df[\"mean_grade\"] = df[[\"Curricular units 1st sem (grade)\",\n",
        "                       \"Curricular units 2nd sem (grade)\"]].mean(axis=1)\n",
        "df[\"total_approved\"] = (df[\"Curricular units 1st sem (approved)\"] +\n",
        "                        df[\"Curricular units 2nd sem (approved)\"])\n",
        "cat_vars = [\"Gender\", \"Scholarship holder\", \"International\",\n",
        "            \"Debtor\", \"Displaced\", \"Marital status\"]\n",
        "df = pd.get_dummies(df, columns=cat_vars, drop_first=True)\n",
        "df[\"Target_bin\"] = df[\"Target\"].str.lower().str.contains(\"drop\").astype(int)\n",
        "\n",
        "X = df.drop([\"Target\", \"Target_bin\"], axis=1)\n",
        "y = df[\"Target_bin\"]\n",
        "\n",
        "X_tr, X_te, y_tr, y_te = train_test_split(\n",
        "    X, y, stratify=y, test_size=0.2, random_state=42\n",
        ")\n",
        "\n",
        "# 2. Modelo ORIGINAL: 100 árboles\n",
        "rf = RandomForestClassifier(n_estimators=100, random_state=42)\n",
        "rf.fit(X_tr, y_tr)\n",
        "print(classification_report(y_te, rf.predict(X_te)))\n",
        "\n",
        "joblib.dump(rf, MODEL, compress=3)\n",
        "print(\"✔ Modelo guardado en\", MODEL)"
      ],
      "metadata": {
        "colab": {
          "base_uri": "https://localhost:8080/"
        },
        "id": "yOi1MPyIw35S",
        "outputId": "f12b33a1-861c-4729-9b2f-f8fc1c46ff97"
      },
      "execution_count": 5,
      "outputs": [
        {
          "output_type": "stream",
          "name": "stdout",
          "text": [
            "              precision    recall  f1-score   support\n",
            "\n",
            "           0       0.88      0.95      0.91       601\n",
            "           1       0.86      0.74      0.80       284\n",
            "\n",
            "    accuracy                           0.88       885\n",
            "   macro avg       0.87      0.84      0.86       885\n",
            "weighted avg       0.88      0.88      0.88       885\n",
            "\n",
            "✔ Modelo guardado en /content/model.joblib\n"
          ]
        }
      ]
    },
    {
      "cell_type": "markdown",
      "source": [
        "# Escritura main.py"
      ],
      "metadata": {
        "id": "v0UE__cGa9M0"
      }
    },
    {
      "cell_type": "code",
      "source": [
        "%%writefile /content/main.py\n",
        "from fastapi import FastAPI\n",
        "from pydantic import BaseModel\n",
        "from typing import List, Dict, Any\n",
        "import joblib, pandas as pd\n",
        "from pathlib import Path\n",
        "\n",
        "model = joblib.load(Path(__file__).with_name(\"model.joblib\"))\n",
        "\n",
        "app = FastAPI(\n",
        "    title=\"Student Dropout Prediction API\",\n",
        "    description=\"Devuelve etiqueta (0/1) y probabilidad de abandono\",\n",
        "    version=\"1.0.0\"\n",
        ")\n",
        "\n",
        "class Record(BaseModel):\n",
        "    inputs: List[Dict[str, Any]]\n",
        "\n",
        "@app.post(\"/predict\")\n",
        "async def predict(data: Record):\n",
        "    df = pd.DataFrame(data.inputs)\n",
        "    proba = model.predict_proba(df)[:, 1]\n",
        "    preds = (proba >= 0.5).astype(int)\n",
        "    return {\"predictions\": preds.tolist(),\n",
        "            \"prob_dropout\": proba.round(3).tolist()}"
      ],
      "metadata": {
        "colab": {
          "base_uri": "https://localhost:8080/"
        },
        "id": "w24U0sApWwLR",
        "outputId": "27018b55-26dc-403c-d54b-930ff731fa4c"
      },
      "execution_count": 6,
      "outputs": [
        {
          "output_type": "stream",
          "name": "stdout",
          "text": [
            "Writing /content/main.py\n"
          ]
        }
      ]
    },
    {
      "cell_type": "markdown",
      "source": [
        "# Activación uvicorn"
      ],
      "metadata": {
        "id": "Y7WZ3cFcbFOP"
      }
    },
    {
      "cell_type": "code",
      "source": [
        "import subprocess, time, psutil, signal, re, os\n",
        "\n",
        "# Mata procesos uvicorn viejos (para evitar puertos ocupados)\n",
        "for p in psutil.process_iter(['pid', 'cmdline']):\n",
        "    if 'uvicorn' in ' '.join(p.info['cmdline']):\n",
        "        os.kill(p.pid, signal.SIGTERM)\n",
        "\n",
        "uvicorn_proc = subprocess.Popen(\n",
        "    [\"uvicorn\", \"main:app\", \"--host\", \"0.0.0.0\", \"--port\", \"8000\"],\n",
        "    stdout=subprocess.PIPE, stderr=subprocess.STDOUT, text=True\n",
        ")\n",
        "time.sleep(3)   # espera a \"Application startup complete.\"\n",
        "print(\"✅ Uvicorn PID:\", uvicorn_proc.pid)"
      ],
      "metadata": {
        "colab": {
          "base_uri": "https://localhost:8080/"
        },
        "id": "72FcTK-uWyiT",
        "outputId": "d10c8daf-595b-42be-ee51-76806268ed3e"
      },
      "execution_count": 7,
      "outputs": [
        {
          "output_type": "stream",
          "name": "stdout",
          "text": [
            "✅ Uvicorn PID: 1460\n"
          ]
        }
      ]
    },
    {
      "cell_type": "markdown",
      "source": [
        "# Apertura de tunel en ngrok para ver despliegue"
      ],
      "metadata": {
        "id": "HbyUTgqGbLxw"
      }
    },
    {
      "cell_type": "code",
      "source": [
        "from pyngrok import ngrok, conf\n",
        "conf.get_default().auth_token = \"token\"\n",
        "\n",
        "public_url = ngrok.connect(8000, \"http\").public_url\n",
        "print(\"🌐 URL pública:\", public_url)\n",
        "print(\"📄 Swagger docs:\", public_url + \"/docs\")"
      ],
      "metadata": {
        "colab": {
          "base_uri": "https://localhost:8080/"
        },
        "id": "7JuT9CUaW08b",
        "outputId": "5bb316ed-9dad-435e-87bc-3a57b22c017a"
      },
      "execution_count": 8,
      "outputs": [
        {
          "output_type": "stream",
          "name": "stdout",
          "text": [
            "🌐 URL pública: https://e2e8d71ba494.ngrok-free.app\n",
            "📄 Swagger docs: https://e2e8d71ba494.ngrok-free.app/docs\n"
          ]
        }
      ]
    },
    {
      "cell_type": "code",
      "source": [
        "import requests, json\n",
        "\n",
        "sample = {\"inputs\": [X_te.iloc[0].to_dict(),\n",
        "                     X_te.iloc[1].to_dict()]}\n",
        "\n",
        "resp = requests.post(f\"{public_url}/predict\", json=sample)\n",
        "print(\"Status :\", resp.status_code)\n",
        "print(\"Respuesta:\", resp.json())"
      ],
      "metadata": {
        "colab": {
          "base_uri": "https://localhost:8080/"
        },
        "id": "ES14PORYYs4m",
        "outputId": "ac743827-2caa-48d0-88fe-9416fa1abc14"
      },
      "execution_count": 9,
      "outputs": [
        {
          "output_type": "stream",
          "name": "stdout",
          "text": [
            "Status : 200\n",
            "Respuesta: {'predictions': [0, 1], 'prob_dropout': [0.05, 0.55]}\n"
          ]
        }
      ]
    },
    {
      "cell_type": "markdown",
      "source": [
        "# Muestra"
      ],
      "metadata": {
        "id": "XcpYsZQMbTpG"
      }
    },
    {
      "cell_type": "code",
      "source": [
        "sample"
      ],
      "metadata": {
        "colab": {
          "base_uri": "https://localhost:8080/"
        },
        "id": "t-On2DV7X6m1",
        "outputId": "4984f91b-911a-4d4d-8000-84158f946dfe"
      },
      "execution_count": 10,
      "outputs": [
        {
          "output_type": "execute_result",
          "data": {
            "text/plain": [
              "{'inputs': [{'Application mode': 1,\n",
              "   'Application order': 2,\n",
              "   'Course': 9670,\n",
              "   'Daytime/evening attendance\\t': 1,\n",
              "   'Previous qualification': 1,\n",
              "   'Previous qualification (grade)': 131.0,\n",
              "   'Nacionality': 1,\n",
              "   \"Mother's qualification\": 1,\n",
              "   \"Father's qualification\": 19,\n",
              "   \"Mother's occupation\": 4,\n",
              "   \"Father's occupation\": 7,\n",
              "   'Admission grade': 135.9,\n",
              "   'Educational special needs': 0,\n",
              "   'Tuition fees up to date': 1,\n",
              "   'Age at enrollment': 18,\n",
              "   'Curricular units 1st sem (credited)': 0,\n",
              "   'Curricular units 1st sem (enrolled)': 6,\n",
              "   'Curricular units 1st sem (evaluations)': 6,\n",
              "   'Curricular units 1st sem (approved)': 6,\n",
              "   'Curricular units 1st sem (grade)': 13.166666666666666,\n",
              "   'Curricular units 1st sem (without evaluations)': 0,\n",
              "   'Curricular units 2nd sem (credited)': 0,\n",
              "   'Curricular units 2nd sem (enrolled)': 6,\n",
              "   'Curricular units 2nd sem (evaluations)': 8,\n",
              "   'Curricular units 2nd sem (approved)': 6,\n",
              "   'Curricular units 2nd sem (grade)': 12.428571428571429,\n",
              "   'Curricular units 2nd sem (without evaluations)': 0,\n",
              "   'Unemployment rate': 8.9,\n",
              "   'Inflation rate': 1.4,\n",
              "   'GDP': 3.51,\n",
              "   'mean_grade': 12.797619047619047,\n",
              "   'total_approved': 12,\n",
              "   'Gender_1': False,\n",
              "   'Scholarship holder_1': True,\n",
              "   'International_1': False,\n",
              "   'Debtor_1': False,\n",
              "   'Displaced_1': True,\n",
              "   'Marital status_2': False,\n",
              "   'Marital status_3': False,\n",
              "   'Marital status_4': False,\n",
              "   'Marital status_5': False,\n",
              "   'Marital status_6': False},\n",
              "  {'Application mode': 1,\n",
              "   'Application order': 1,\n",
              "   'Course': 9119,\n",
              "   'Daytime/evening attendance\\t': 1,\n",
              "   'Previous qualification': 1,\n",
              "   'Previous qualification (grade)': 163.0,\n",
              "   'Nacionality': 1,\n",
              "   \"Mother's qualification\": 19,\n",
              "   \"Father's qualification\": 37,\n",
              "   \"Mother's occupation\": 5,\n",
              "   \"Father's occupation\": 8,\n",
              "   'Admission grade': 150.8,\n",
              "   'Educational special needs': 0,\n",
              "   'Tuition fees up to date': 1,\n",
              "   'Age at enrollment': 18,\n",
              "   'Curricular units 1st sem (credited)': 0,\n",
              "   'Curricular units 1st sem (enrolled)': 5,\n",
              "   'Curricular units 1st sem (evaluations)': 9,\n",
              "   'Curricular units 1st sem (approved)': 4,\n",
              "   'Curricular units 1st sem (grade)': 10.5,\n",
              "   'Curricular units 1st sem (without evaluations)': 0,\n",
              "   'Curricular units 2nd sem (credited)': 0,\n",
              "   'Curricular units 2nd sem (enrolled)': 5,\n",
              "   'Curricular units 2nd sem (evaluations)': 11,\n",
              "   'Curricular units 2nd sem (approved)': 2,\n",
              "   'Curricular units 2nd sem (grade)': 10.5,\n",
              "   'Curricular units 2nd sem (without evaluations)': 3,\n",
              "   'Unemployment rate': 7.6,\n",
              "   'Inflation rate': 2.6,\n",
              "   'GDP': 0.32,\n",
              "   'mean_grade': 10.5,\n",
              "   'total_approved': 6,\n",
              "   'Gender_1': True,\n",
              "   'Scholarship holder_1': False,\n",
              "   'International_1': False,\n",
              "   'Debtor_1': False,\n",
              "   'Displaced_1': True,\n",
              "   'Marital status_2': False,\n",
              "   'Marital status_3': False,\n",
              "   'Marital status_4': False,\n",
              "   'Marital status_5': False,\n",
              "   'Marital status_6': False}]}"
            ]
          },
          "metadata": {},
          "execution_count": 10
        }
      ]
    }
  ]
}
